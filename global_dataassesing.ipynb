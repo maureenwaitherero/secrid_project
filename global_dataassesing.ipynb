{
 "cells": [
  {
   "cell_type": "markdown",
   "metadata": {},
   "source": [
    "# SECRID  DATA ANALYSIS PROJECT\n",
    "\n",
    "\n",
    "<span style=\"color: gray; font-size:1em;\">September-2019</span>\n",
    "\n",
    "\n",
    "## Table of Contents\n",
    "* [Introduction](#introduction)\n",
    "* [Section One - Import Data into IDE](#import_data)\n",
    "    * [Part I - Gathering Data](#gather_data)\n",
    "    * [Part II - Assessing Data](#assess_data)\n",
    "    * [Part III - Cleaning Data](#clean_data)\n",
    "* [Section Two - Individual Variable Assessing](#asses_variable)\n",
    "    * [Variable 1 - internal_id](#Internal_ID)\n",
    "    * [variable 2 - document_number](#Document_Number)\n",
    "    * [variable 3 - customer_name](#Customer_Name)\n",
    "        * [Quality Issue](#qi_Customer_Name)\n",
    "    * [variable 4 - customer_category](#Customer_Category)\n",
    "    * [variable 5 - retailer_role](#Retailer_Role)\n",
    "        * [Quality Issue](#qi_Retailer_Role)\n",
    "    * [variable 6 - pim_category](#PIM_Category)\n",
    "    * [variable 7 - pim_colour](#PIM_Colour)\n",
    "    * [variable 8 - item](#Item)\n",
    "    * [variable 9 - display_name](#Display_Name)\n",
    "    * [variable 10 - type_of_material](#Type_of_leather)\n",
    "    * [variable 11 - wsl](#WSL)\n",
    "    * [variable 12 - while_stock_lasts](#While_stock_lasts)\n",
    "    * [variable 13 - shipping_country](#shipping_country)\n",
    "        * [Quality Issue](#Customer_Name)\n",
    "    * [variable 14 - date](#date)    \n",
    "    * [variable 15 - quantity](#quantity)\n",
    "    * [variable 16 - amount](#amount)\n",
    "        * [Explore: quality and amount columns](#explore)\n",
    "    \n",
    "   \n",
    "    \n",
    "    \n",
    "    \n",
    "    \n",
    "          \n",
    "    "
   ]
  },
  {
   "cell_type": "markdown",
   "metadata": {},
   "source": [
    "<a id='introduction'></a>\n",
    "## Introduction\n",
    "\n",
    "SECRID is a business entity based in the Netherlands. It produces, stocks and sells designer wallets, particularly leather based wallets in more than 100 countries all over the world.\n",
    "\n",
    "This notebook explores SECRID sales data\n"
   ]
  },
  {
   "cell_type": "markdown",
   "metadata": {},
   "source": [
    "<a id='#import_data'></a>\n",
    "## Section One : Import Data into IDE"
   ]
  },
  {
   "cell_type": "markdown",
   "metadata": {},
   "source": [
    "<a id='gather_data'></a>\n",
    "## Part I : Gathering Data"
   ]
  },
  {
   "cell_type": "code",
   "execution_count": 2,
   "metadata": {},
   "outputs": [],
   "source": [
    "# load required libraries\n",
    "import numpy as np\n",
    "import pandas as pd\n",
    "from pandas import DataFrame\n",
    "from pandas import read_excel\n",
    "\n",
    "import zipfile\n",
    "import xlsxwriter\n",
    "\n",
    "import seaborn as sns\n",
    "# Use seaborn style defaults and set the default figure size\n",
    "sns.set(rc={'figure.figsize':(11, 4)})\n",
    "\n",
    "import matplotlib.pyplot as plt\n",
    "%matplotlib inline\n",
    "import matplotlib.ticker as ticker\n",
    "from matplotlib import pyplot as plt\n",
    "from matplotlib import dates as mpl_dates\n",
    "from pandas.plotting import register_matplotlib_converters\n",
    "register_matplotlib_converters()\n",
    "plt.style.use('seaborn')\n",
    "\n",
    "import six\n",
    "\n",
    "from datetime import datetime, timedelta\n",
    "\n",
    "# environment settings:\n",
    "pd.options.display.float_format = '{:.2f}'.format\n",
    "pd.set_option('display.max_column',None)\n",
    "pd.set_option('display.max_rows',None)\n",
    "pd.set_option('display.max_seq_items',None)\n",
    "pd.set_option('display.max_colwidth', 500)\n",
    "pd.set_option('expand_frame_repr', True)\n"
   ]
  },
  {
   "cell_type": "code",
   "execution_count": null,
   "metadata": {},
   "outputs": [],
   "source": [
    "# Extract all content from the zipfile\n",
    "with zipfile.ZipFile('SECRID DATA.xlsx.zip', 'r')as myzip:\n",
    "    myzip.extractall()"
   ]
  },
  {
   "cell_type": "markdown",
   "metadata": {},
   "source": [
    "### Load .xlxs files"
   ]
  },
  {
   "cell_type": "code",
   "execution_count": 3,
   "metadata": {},
   "outputs": [],
   "source": [
    "#load sales 2015 \n",
    "df1 = pd.read_excel('SECRID DATA.xlsx',0) #load first spreadsheet of SECRID DATA.xlxs "
   ]
  },
  {
   "cell_type": "code",
   "execution_count": 7,
   "metadata": {},
   "outputs": [],
   "source": [
    "# #load sales 2016 \n",
    "df2 = pd.read_excel('SECRID DATA.xlsx',1) #load second spreadsheet of SECRID DATA.xlxs"
   ]
  },
  {
   "cell_type": "code",
   "execution_count": 4,
   "metadata": {},
   "outputs": [],
   "source": [
    "#load sales 2017\n",
    "df3 = pd.read_excel('SECRID DATA.xlsx',2)  #load third spreadsheet ofSECRID DATA.xlxs"
   ]
  },
  {
   "cell_type": "code",
   "execution_count": 5,
   "metadata": {},
   "outputs": [],
   "source": [
    "#load sales 2018\n",
    "df4 = pd.read_excel('SECRID DATA.xlsx',3)  #load fourth spreadsheet of SECRID DATA.xlxs"
   ]
  },
  {
   "cell_type": "code",
   "execution_count": 6,
   "metadata": {},
   "outputs": [],
   "source": [
    "#load sales 2019\n",
    "df5 = pd.read_excel('SECRID DATA.xlsx',4)  #load fifth spreadsheet of SECRID DATA.xlxs"
   ]
  },
  {
   "cell_type": "code",
   "execution_count": null,
   "metadata": {},
   "outputs": [],
   "source": [
    "# load product data\n",
    "df6 = pd.read_excel('SECRID DATA.xlsx',5) #load sixth spreadsheet of SECRID DATA.xlxs"
   ]
  },
  {
   "cell_type": "code",
   "execution_count": 8,
   "metadata": {},
   "outputs": [],
   "source": [
    "#combine df1, df2, df3, df4 and df5  into one complete dataframe 'df' for sales data\n",
    "df = pd.concat([df1, df2, df3, df4, df5]) "
   ]
  },
  {
   "cell_type": "markdown",
   "metadata": {},
   "source": [
    "<a id='assess_data'></a>\n",
    "## Part II - Assessing  Data"
   ]
  },
  {
   "cell_type": "code",
   "execution_count": null,
   "metadata": {
    "scrolled": true
   },
   "outputs": [],
   "source": [
    "df.head() #preview first five rows"
   ]
  },
  {
   "cell_type": "code",
   "execution_count": null,
   "metadata": {},
   "outputs": [],
   "source": [
    "df.tail() #preview last five rows"
   ]
  },
  {
   "cell_type": "code",
   "execution_count": 10,
   "metadata": {},
   "outputs": [
    {
     "data": {
      "text/plain": [
       "(1609533, 18)"
      ]
     },
     "execution_count": 10,
     "metadata": {},
     "output_type": "execute_result"
    }
   ],
   "source": [
    "# Check size of the dataframe \n",
    "df.shape "
   ]
  },
  {
   "cell_type": "code",
   "execution_count": null,
   "metadata": {
    "scrolled": true
   },
   "outputs": [],
   "source": [
    "# list names of columns in dataframe\n",
    "df.columns "
   ]
  },
  {
   "cell_type": "code",
   "execution_count": null,
   "metadata": {
    "scrolled": true
   },
   "outputs": [],
   "source": [
    "# View info of the dataframe \n",
    "df.info()"
   ]
  },
  {
   "cell_type": "code",
   "execution_count": null,
   "metadata": {},
   "outputs": [],
   "source": [
    "# view some of the core statistics about columns\n",
    "df.describe(include='all')"
   ]
  },
  {
   "cell_type": "code",
   "execution_count": null,
   "metadata": {},
   "outputs": [],
   "source": [
    "# check the Data types (dtypes) of each column in Dataframe\n",
    "df.dtypes "
   ]
  },
  {
   "cell_type": "code",
   "execution_count": null,
   "metadata": {},
   "outputs": [],
   "source": [
    "# Total sum of duplicate rows\n",
    "df.duplicated().sum() # returns a Boolean Series with True value for each duplicated row and sums them"
   ]
  },
  {
   "cell_type": "code",
   "execution_count": null,
   "metadata": {},
   "outputs": [],
   "source": [
    "#return the number of unique elements in each column\n",
    "print(df.nunique()) "
   ]
  },
  {
   "cell_type": "code",
   "execution_count": null,
   "metadata": {},
   "outputs": [],
   "source": [
    "df.count() #returns the number of non-missing values for each column or row"
   ]
  },
  {
   "cell_type": "code",
   "execution_count": null,
   "metadata": {},
   "outputs": [],
   "source": [
    "#Total missing values(NaN) in a DataFrame\n",
    "df.isnull().sum().sum()"
   ]
  },
  {
   "cell_type": "code",
   "execution_count": null,
   "metadata": {},
   "outputs": [],
   "source": [
    "#Count number of NaN for each column in DataFrame\n",
    "print(df.isnull().sum()) "
   ]
  },
  {
   "cell_type": "markdown",
   "metadata": {},
   "source": [
    "<a id='issues'></a>\n",
    "**Quality issues**\n",
    " * Rename column names to have clear, descriptive names in small letters according to best practice. Column 'name' can be renamed to 'customer_name' and column 'material' can be renamed to 'type_of_material'\n",
    " * Set to columns to appropriate category data type: 'internal_id', 'document_number', 'customer_name', 'customer _category', 'retailer_role', 'shipping_country', 'item', 'display_name', 'pim_category','type_of_material', \n",
    "   'pim_colour', 'wsl', 'while_stock_lasts' and 'cardprotector_colour' "
   ]
  },
  {
   "cell_type": "markdown",
   "metadata": {},
   "source": [
    "<a id='clean_data'></a>\n",
    "## Part III - Cleaning Data"
   ]
  },
  {
   "cell_type": "code",
   "execution_count": 11,
   "metadata": {},
   "outputs": [],
   "source": [
    "# Create copy of original DataFrame\n",
    "df_clean = df.copy()"
   ]
  },
  {
   "cell_type": "code",
   "execution_count": 12,
   "metadata": {},
   "outputs": [],
   "source": [
    "#Fixing messy column names\n",
    "df_clean.columns = df_clean.columns.str.strip().str.lower().str.replace(' ', '_').str.replace('(', '').str.replace(')', '')"
   ]
  },
  {
   "cell_type": "code",
   "execution_count": 13,
   "metadata": {},
   "outputs": [],
   "source": [
    "# change column names using rename function\n",
    "df_clean.rename(columns={                                                 \n",
    "                         'name':'customer_name',\n",
    "                         'wsl_+':'wsl',\n",
    "                         'material':'type_of_material' }, \n",
    "                 inplace=True)"
   ]
  },
  {
   "cell_type": "markdown",
   "metadata": {},
   "source": [
    "**Test**"
   ]
  },
  {
   "cell_type": "code",
   "execution_count": null,
   "metadata": {},
   "outputs": [],
   "source": [
    "df_clean.columns #List of column names in df_clean Dataframe"
   ]
  },
  {
   "cell_type": "markdown",
   "metadata": {},
   "source": [
    "**Define**\n",
    "<br>Set appropriate data types for fields mentioned in the [Quality issues](#issues) "
   ]
  },
  {
   "cell_type": "code",
   "execution_count": 14,
   "metadata": {},
   "outputs": [],
   "source": [
    "# use .astype to change data type of dataframe columns\n",
    "df_clean = df_clean.astype({\"internal_id\":'category',\"document_number\":'category', \"customer_name\":'category', \"customer_category\":'category', \"retailer_role\":'category', \"shipping_country\":'category', \"item\":'category',\"display_name\":'category', \"pim_category\":'category', \"type_of_material\":'category', \"pim_colour\":'category',\"wsl\":'category', \"while_stock_lasts\":'category', \"cardprotector_colour\":'category'})"
   ]
  },
  {
   "cell_type": "markdown",
   "metadata": {},
   "source": [
    "**Test**"
   ]
  },
  {
   "cell_type": "code",
   "execution_count": 15,
   "metadata": {},
   "outputs": [
    {
     "name": "stdout",
     "output_type": "stream",
     "text": [
      "<class 'pandas.core.frame.DataFrame'>\n",
      "Int64Index: 1609533 entries, 0 to 310899\n",
      "Data columns (total 18 columns):\n",
      "internal_id                1609533 non-null category\n",
      "document_number            1609533 non-null category\n",
      "date                       1609533 non-null datetime64[ns]\n",
      "customer_name              1609533 non-null category\n",
      "customer_category          1604118 non-null category\n",
      "retailer_role              45994 non-null category\n",
      "shipping_country           1603431 non-null category\n",
      "item                       1609533 non-null category\n",
      "display_name               1609533 non-null category\n",
      "quantity                   1609533 non-null int64\n",
      "amount                     1609533 non-null float64\n",
      "amount_foreign_currency    1609533 non-null float64\n",
      "pim_category               1608493 non-null category\n",
      "type_of_material           1608493 non-null category\n",
      "pim_colour                 1603475 non-null category\n",
      "wsl                        1609533 non-null category\n",
      "while_stock_lasts          1609533 non-null category\n",
      "cardprotector_colour       1556521 non-null category\n",
      "dtypes: category(14), datetime64[ns](1), float64(2), int64(1)\n",
      "memory usage: 110.4 MB\n"
     ]
    }
   ],
   "source": [
    "df_clean.info()"
   ]
  },
  {
   "cell_type": "code",
   "execution_count": null,
   "metadata": {},
   "outputs": [],
   "source": [
    "# view some of the core statistics about columns\n",
    "df_clean.describe(include='all')"
   ]
  },
  {
   "cell_type": "markdown",
   "metadata": {},
   "source": [
    "### content structure of sales dataset\n",
    "The sales data contains 18 columns (variables) and 1,609,533 rows (entries). \n",
    "This is evidence that 1,609,533 sale transactions were completed in the January 2015 – July 2019 period for SECRID business. The dataset contained features about:\n",
    "\n",
    "* Products for sale: item, display_name, pim_category, pim_colour, type_of_material and cardprotector_colour\n",
    "* The country the item was shipped to : shipping_country  \n",
    "* Customer data:  customer_name, customer_category and retailer_role\n",
    "* Sale transactions: internal_id, document_number, quantity, amount, amount(foreign_currency) and date\n",
    "\n",
    "\n",
    "### Detected Missing Values\n",
    "A null value is a value in a field that appears to be blank. A null value is a field with no value. \n",
    "The table below indicates the number and  the resulting percentage of missing values per column.\n",
    "\n",
    "| Variable Name  | Value Count| Number Of Missing Values| % Of Missing Values\n",
    "| -------------  | ------------- |------------- |-------------\n",
    "| internal_id    | 1,609,533  |0 |0%\n",
    "| document_number| 1,609,533  |0 |0%\n",
    "| date            | 1,609,533  |0 |0%\n",
    "| customer_name  | 1,609,533  |0 |0%\n",
    "| customer_category  | 1,604,118  |5,415     |0.34%\n",
    "| retailer_role      | 45,994     |1,563,539 |97.14%\n",
    "| shipping_country   | 1,603,431  |6,102     |0.38%\n",
    "| item               | 1,609,533  |0 |0%\n",
    "| display_name       | 1,609,533  |0 |0%\n",
    "| quantity           | 1,609,533  |0 |0%\n",
    "| amount             | 1,609,533  |0 |0%\n",
    "| amount(foreign_currency)| 1,609,533 |0     |0%\n",
    "| type_of_material        | 1,608,493 |1,040 |0.065%\n",
    "| pim_category            | 1,608,493 |1,040 |0.065%\n",
    "| pim_colour              | 1,603,475 |6,058 |0.38%\n",
    "| wsl_+                   | 1,609,533 |0     |0%\n",
    "| while_stock_lasts       | 1,609,533 |0     |0%\n",
    "| cardprotector_colour    | 1,556,521 |53,012|3.29%\n",
    "\n",
    "\n"
   ]
  },
  {
   "cell_type": "markdown",
   "metadata": {},
   "source": [
    "<a id='asses_variable'></a>\n",
    "## Section Two: Individual Variable assesment"
   ]
  },
  {
   "cell_type": "markdown",
   "metadata": {},
   "source": [
    "<a id='Internal_ID'></a>\n",
    "### VARIABLE 1  : internal_id"
   ]
  },
  {
   "cell_type": "code",
   "execution_count": null,
   "metadata": {},
   "outputs": [],
   "source": [
    "df_clean.internal_id.describe()#overview of variable; count, unique, top,freq"
   ]
  },
  {
   "cell_type": "code",
   "execution_count": null,
   "metadata": {},
   "outputs": [],
   "source": [
    "print (df_clean.internal_id.cat.categories)"
   ]
  },
  {
   "cell_type": "code",
   "execution_count": null,
   "metadata": {},
   "outputs": [],
   "source": [
    "df_clean.internal_id.value_counts()  #Return  counts of unique values"
   ]
  },
  {
   "cell_type": "code",
   "execution_count": null,
   "metadata": {},
   "outputs": [],
   "source": [
    "print(df_clean.internal_id.isnull().sum()) #Number of missing values in Internal_ID column"
   ]
  },
  {
   "cell_type": "markdown",
   "metadata": {},
   "source": [
    "### Findings\n",
    "This is a column of sale transaction identifiers.\n",
    "'internal_id' column has 143,904  unique categories and no missing values."
   ]
  },
  {
   "cell_type": "markdown",
   "metadata": {},
   "source": [
    "<a id='Document_Number'></a>\n",
    "### VARIABLE  2: document_number"
   ]
  },
  {
   "cell_type": "code",
   "execution_count": null,
   "metadata": {},
   "outputs": [],
   "source": [
    "df_clean.document_number.describe()#overview of variable; count, unique, top,freq"
   ]
  },
  {
   "cell_type": "code",
   "execution_count": null,
   "metadata": {},
   "outputs": [],
   "source": [
    "print (df_clean.document_number.cat.categories)#categories in the categorical variable"
   ]
  },
  {
   "cell_type": "code",
   "execution_count": null,
   "metadata": {},
   "outputs": [],
   "source": [
    "df_clean.document_number.value_counts()  #Return  counts of unique values"
   ]
  },
  {
   "cell_type": "code",
   "execution_count": null,
   "metadata": {},
   "outputs": [],
   "source": [
    "print(df_clean.document_number.isnull().sum())  #Number of missing values in Document_Number column"
   ]
  },
  {
   "cell_type": "markdown",
   "metadata": {},
   "source": [
    "### Findings\n",
    "This is a column of sale transaction identifiers.\n",
    "'Document Number' column has 143,890  unique categories and no missing values."
   ]
  },
  {
   "cell_type": "markdown",
   "metadata": {},
   "source": [
    "<a id='Customer_Name'></a>\n",
    "### VARIABLE  3: customer_name"
   ]
  },
  {
   "cell_type": "code",
   "execution_count": null,
   "metadata": {},
   "outputs": [],
   "source": [
    "df_clean.customer_name.describe()#overview of variable; count, unique, top,freq"
   ]
  },
  {
   "cell_type": "code",
   "execution_count": null,
   "metadata": {},
   "outputs": [],
   "source": [
    "print (df_clean.customer_name.cat.categories)#categories in the categorical variable"
   ]
  },
  {
   "cell_type": "code",
   "execution_count": null,
   "metadata": {},
   "outputs": [],
   "source": [
    "df_clean.customer_name.value_counts()  #Return counts of unique values"
   ]
  },
  {
   "cell_type": "code",
   "execution_count": null,
   "metadata": {},
   "outputs": [],
   "source": [
    "print(df_clean.customer_name.isnull().sum())  #Number of missing values in Customer_Name column"
   ]
  },
  {
   "cell_type": "markdown",
   "metadata": {},
   "source": [
    "### Findings\n",
    "This column records the customer name per sale transaction. The format the Customer Name is entered is as follows; the letter C (capital c) is entered as a prefix before a hyphen (‘-’), a unique number is then added followed by the customer name. There are 31,143 unique customer names. This means that for the January 2015–July 2019 period the business  had 31,143 unique customers. The customer who performed the most transactions is **C-10625 El Corte Ingles** at 35,481 sale transactions."
   ]
  },
  {
   "cell_type": "markdown",
   "metadata": {},
   "source": [
    "<a id='qi_Customer_Name'></a>\n",
    "**Quality Issue**\n",
    "\n",
    "For customers with different branches of their business, each branch is considered as a unique customer.\n",
    "The letter C (capital c) that is entered as a prefix before a hyphen (‘-’) and the unique number following is repeated for all branches.<br>\n",
    "For example;\n",
    "\n",
    "* 'C-10215 James Shoe Care Canada Place Limited',\n",
    "* 'C-10215| C-1 James Shoe Care Canada Place Limited : James Shoe Care Canada Place Limited : James Shoe Care Wharf',\n",
    "* 'C-10215| C-2 James Shoe Care Canada Place Limited : James Shoe Care Canada Place Limited : James Shoe Care Westfield',\n"
   ]
  },
  {
   "cell_type": "markdown",
   "metadata": {},
   "source": [
    "### combine similar branch stores sale transactions."
   ]
  },
  {
   "cell_type": "code",
   "execution_count": null,
   "metadata": {},
   "outputs": [],
   "source": [
    "#create new column that has first 7 characters of column 'customer_name' \n",
    "df_clean['customer_id'] = df_clean['customer_name'].str[:7]"
   ]
  },
  {
   "cell_type": "markdown",
   "metadata": {},
   "source": [
    "**Test**"
   ]
  },
  {
   "cell_type": "code",
   "execution_count": null,
   "metadata": {},
   "outputs": [],
   "source": [
    "df_clean.head()"
   ]
  },
  {
   "cell_type": "code",
   "execution_count": null,
   "metadata": {},
   "outputs": [],
   "source": [
    "df_clean = df_clean.astype({\"customer_id\":'category'})"
   ]
  },
  {
   "cell_type": "code",
   "execution_count": null,
   "metadata": {},
   "outputs": [],
   "source": [
    "df_clean.customer_id.describe()"
   ]
  },
  {
   "cell_type": "code",
   "execution_count": null,
   "metadata": {},
   "outputs": [],
   "source": [
    "df_clean.customer_id.value_counts()"
   ]
  },
  {
   "cell_type": "code",
   "execution_count": null,
   "metadata": {},
   "outputs": [],
   "source": [
    "df_clean.customer_id= df_clean.customer_id.astype('category')"
   ]
  },
  {
   "cell_type": "code",
   "execution_count": null,
   "metadata": {},
   "outputs": [],
   "source": [
    "df_clean.customer_id.cat.categories#categories in the categorical variable"
   ]
  },
  {
   "cell_type": "code",
   "execution_count": null,
   "metadata": {},
   "outputs": [],
   "source": [
    "df_clean.loc[df_clean['customer_id'] == 'C-6962|'].head()"
   ]
  },
  {
   "cell_type": "code",
   "execution_count": null,
   "metadata": {},
   "outputs": [],
   "source": [
    "df_clean.loc[df_clean['customer_id'] == 'C-6962'].head()"
   ]
  },
  {
   "cell_type": "code",
   "execution_count": null,
   "metadata": {},
   "outputs": [],
   "source": [
    "df_clean.customer_id = df_clean.customer_id.str.strip().str.replace('|', '')"
   ]
  },
  {
   "cell_type": "markdown",
   "metadata": {},
   "source": [
    "**Test**"
   ]
  },
  {
   "cell_type": "code",
   "execution_count": null,
   "metadata": {},
   "outputs": [],
   "source": [
    "df_clean.customer_id.describe()"
   ]
  },
  {
   "cell_type": "code",
   "execution_count": null,
   "metadata": {},
   "outputs": [],
   "source": [
    "df_clean.customer_id.value_counts()"
   ]
  },
  {
   "cell_type": "markdown",
   "metadata": {},
   "source": [
    "<a id='Customer_Category'></a>\n",
    "### VARIABLE  4: customer_category"
   ]
  },
  {
   "cell_type": "code",
   "execution_count": null,
   "metadata": {},
   "outputs": [],
   "source": [
    "df_clean.customer_category.describe()#overview of variable; count, unique, top,freq"
   ]
  },
  {
   "cell_type": "code",
   "execution_count": null,
   "metadata": {
    "scrolled": true
   },
   "outputs": [],
   "source": [
    "print (df_clean.customer_category.cat.categories)#categories in the categorical variable"
   ]
  },
  {
   "cell_type": "code",
   "execution_count": null,
   "metadata": {},
   "outputs": [],
   "source": [
    "df_clean.customer_category.value_counts() #Return counts of unique values"
   ]
  },
  {
   "cell_type": "code",
   "execution_count": null,
   "metadata": {},
   "outputs": [],
   "source": [
    "print(df_clean.customer_category.isnull().sum())  #Number of missing values in Customer_Name column"
   ]
  },
  {
   "cell_type": "markdown",
   "metadata": {},
   "source": [
    "### Findings\n",
    "\n",
    "'Customer Category' column has 47  unique categories and 5,415 missing values. Leather goods category has the highest frequency of sale transactions at 345,551."
   ]
  },
  {
   "cell_type": "markdown",
   "metadata": {},
   "source": [
    "<a id='Retailer_Role'></a>\n",
    "### VARIABLE  5: retailer_role"
   ]
  },
  {
   "cell_type": "code",
   "execution_count": null,
   "metadata": {},
   "outputs": [],
   "source": [
    "df_clean.retailer_role.describe()#overview of variable; count, unique, top,freq"
   ]
  },
  {
   "cell_type": "code",
   "execution_count": null,
   "metadata": {},
   "outputs": [],
   "source": [
    "print (df_clean.retailer_role.cat.categories)#categories in the categorical variable"
   ]
  },
  {
   "cell_type": "code",
   "execution_count": null,
   "metadata": {},
   "outputs": [],
   "source": [
    "df_clean.retailer_role.value_counts()#Return counts of unique values"
   ]
  },
  {
   "cell_type": "code",
   "execution_count": null,
   "metadata": {},
   "outputs": [],
   "source": [
    "print(df_clean.retailer_role.isnull().sum()) #Number of missing values in Retailer_Role column"
   ]
  },
  {
   "cell_type": "markdown",
   "metadata": {},
   "source": [
    "### Findings\n",
    "\n",
    "'Retailer Role' column has 4 unique categories and 1,563,539 missing values. This column has 97% missing values and is recommended to be dropped during cleaning."
   ]
  },
  {
   "cell_type": "markdown",
   "metadata": {},
   "source": [
    "<a id='qi_Retailer_Role'></a>\n",
    "### Quality Issues\n",
    "* 'Retailer Role' column : This column has 1,563,539 missing values. This column has 97% missing values and is recommended to be dropped"
   ]
  },
  {
   "cell_type": "code",
   "execution_count": null,
   "metadata": {},
   "outputs": [],
   "source": [
    "# Drop 'retailer_role' column with drop function\n",
    "df_clean.drop(['retailer_role'], axis=1)"
   ]
  },
  {
   "cell_type": "markdown",
   "metadata": {},
   "source": [
    "<a id='PIM_Category'></a>\n",
    "### VARIABLE 6 : pim_category"
   ]
  },
  {
   "cell_type": "code",
   "execution_count": 16,
   "metadata": {},
   "outputs": [
    {
     "data": {
      "text/plain": [
       "count        1608493\n",
       "unique             6\n",
       "top       Miniwallet\n",
       "freq          901668\n",
       "Name: pim_category, dtype: object"
      ]
     },
     "execution_count": 16,
     "metadata": {},
     "output_type": "execute_result"
    }
   ],
   "source": [
    "df_clean.pim_category.describe() #overview of variable; count, unique, top,freq"
   ]
  },
  {
   "cell_type": "code",
   "execution_count": 17,
   "metadata": {},
   "outputs": [
    {
     "name": "stdout",
     "output_type": "stream",
     "text": [
      "Index(['Cardprotector', 'Cardslide', 'Miniwallet', 'Moneyband', 'Slimwallet',\n",
      "       'Twinwallet'],\n",
      "      dtype='object')\n"
     ]
    }
   ],
   "source": [
    "# Main categories of items sold\n",
    "# print categories in the categorical variable\n",
    "print (df_clean.pim_category.cat.categories)"
   ]
  },
  {
   "cell_type": "code",
   "execution_count": null,
   "metadata": {},
   "outputs": [],
   "source": [
    "df_clean.pim_category.value_counts() #Return counts of unique values"
   ]
  },
  {
   "cell_type": "code",
   "execution_count": null,
   "metadata": {},
   "outputs": [],
   "source": [
    "print(df_clean.pim_category.isnull().sum()) "
   ]
  },
  {
   "cell_type": "markdown",
   "metadata": {},
   "source": [
    "### Findings\n",
    "Over the January 2015–July 2019 period the product sold by the business are divided into six (6) distinct main categories.\n",
    "* Cardprotector\n",
    "* Cardslide\n",
    "* Miniwallet\n",
    "* Moneyband\n",
    "* Slimwallet\n",
    "* Twinwallet\n",
    "\n",
    "'PIM_Category' column has 6 unique categories and 1,040 missing values. **Miniwallet** category has the highest frequency of sale transactions at 901,668."
   ]
  },
  {
   "cell_type": "markdown",
   "metadata": {},
   "source": [
    "<a id='PIM_Colour'></a>\n",
    "### VARIABLE  7: pim_colour"
   ]
  },
  {
   "cell_type": "code",
   "execution_count": null,
   "metadata": {},
   "outputs": [],
   "source": [
    "df_clean.pim_colour.describe() #overview of variable; count, unique, top,freq"
   ]
  },
  {
   "cell_type": "code",
   "execution_count": null,
   "metadata": {},
   "outputs": [],
   "source": [
    "# Main categories in PIM Colour\n",
    "print (df_clean.pim_colour.cat.categories)"
   ]
  },
  {
   "cell_type": "code",
   "execution_count": null,
   "metadata": {},
   "outputs": [],
   "source": [
    "df_clean.pim_colour.value_counts() #Return counts of unique values"
   ]
  },
  {
   "cell_type": "code",
   "execution_count": null,
   "metadata": {},
   "outputs": [],
   "source": [
    "print(df_clean.pim_colour.isnull().sum()) "
   ]
  },
  {
   "cell_type": "markdown",
   "metadata": {},
   "source": [
    "### Findings\n",
    "\n",
    "This column indicates color of the product sold.'PIM Colour' column has 45 unique categories and 6,058 missing values. **Black** category has the highest frequency of sale transactions at 465,688.\n"
   ]
  },
  {
   "cell_type": "markdown",
   "metadata": {},
   "source": [
    "<a id='Item'></a>\n",
    "### VARIABLE 8: item"
   ]
  },
  {
   "cell_type": "code",
   "execution_count": null,
   "metadata": {},
   "outputs": [],
   "source": [
    "df_clean.item.describe() #overview of variable; count, unique, top,freq"
   ]
  },
  {
   "cell_type": "code",
   "execution_count": 18,
   "metadata": {},
   "outputs": [
    {
     "name": "stdout",
     "output_type": "stream",
     "text": [
      "Index(['512.039.00', '512.039.01', 'AS-Black', 'AS-Blue', 'AS-Green',\n",
      "       'AS-White', 'BQ-C-Sample', 'BQ-CS-Sample', 'BQ-M-Sample',\n",
      "       'BQ-MB-Sample', 'BQ-T-Sample', 'C-Black', 'C-Blue', 'C-Bordeaux',\n",
      "       'C-Brown', 'C-Brushed Black', 'C-Brushed Silver', 'C-Facade', 'C-Gold',\n",
      "       'C-Green', 'C-KLM Gold Exclusive', 'C-KLM Red Exclusive', 'C-Lime',\n",
      "       'C-Red', 'C-Rust', 'C-Silver', 'C-Streetview', 'C-Titanium', 'C-Violet',\n",
      "       'C-Wallflower', 'C-gold', 'CLa-Logo Black', 'CLa-Logo Blue',\n",
      "       'CLa-Logo Brushed Black', 'CLa-Logo Brushed Silver', 'CLa-Logo Green',\n",
      "       'CLa-Magnolia Black', 'CLa-Magnolia Bordeaux', 'CLa-Provence Green',\n",
      "       'CLa-Provence Violet', 'CLa-Structure Black', 'CLa-Structure Titanium',\n",
      "       'CLa-Tartan Brown', 'CLa-Tartan Green', 'CLa-Tartan Rust',\n",
      "       'CLa-Zigzag Black', 'CLa-Zigzag Titanium', 'CRo-Orange',\n",
      "       'CS-Black/Black', 'CS-Blue', 'CS-Constructure', 'CS-Electrolime',\n",
      "       'CS-Green', 'CS-KLM Black', 'CS-Monochrome', 'CS-White',\n",
      "       'CS-White/Bordeaux', 'Cx-Diamond Black Exclusive', 'M-Black',\n",
      "       'M-Bordeaux', 'M-Cognac-Brown', 'M-Cognac-Rust', 'M-Dark brown',\n",
      "       'M-Emerald', 'M-Fuchsia', 'M-Green', 'M-Navy', 'M-Navy-Blue',\n",
      "       'M-Red-Red', 'MA-Brown', 'MB-Black', 'MB-Blue', 'MB-Brick', 'MB-Cables',\n",
      "       'MB-Central Park', 'MB-Cobalt', 'MB-Concrete', 'MB-Construction',\n",
      "       'MB-Groove', 'MB-Harbour', 'MB-Highway', 'MB-Light Stream',\n",
      "       'MB-Neon Pink', 'MB-No-Entry', 'MB-Pergola', 'MB-Pier', 'MB-Red',\n",
      "       'MB-Road Sign', 'MB-Skyscraper', 'MB-Starry Sky', 'MB-Thames',\n",
      "       'MB-Tire', 'MB-Yellow Cab', 'MB-Zebra', 'MC-Amber', 'MC-Black',\n",
      "       'MC-Black-Gold', 'MC-Blue-Black', 'MC-Caramel', 'MC-Emerald',\n",
      "       'MC-Emerald Silver', 'MC-Indigo', 'MC-Lemon', 'MC-Orange',\n",
      "       'MC-Pistachio Floral', 'MC-Rose Floral', 'MC-Taupe Camo', 'MCl-Black',\n",
      "       'MCl-Lavender', 'MCl-Ochre', 'MCu-Black', 'MCu-Black-Blue',\n",
      "       'MCx-Black Exclusive', 'MD-Black', 'MDM-Bordeaux', 'MDM-Cacao-Brown',\n",
      "       'MDM-Nightblue', 'MDM-Olive', 'MDM-Whiskey', 'MDa-Navy', 'MG-Bronze',\n",
      "       'MG-Green', 'MIn-3', 'MIn-5', 'ML-white/black', 'MM-Black',\n",
      "       'MM-Black & Red', 'MM-Black & Yellow', 'MM-Blue', 'MM-Blue Silver',\n",
      "       'MM-Brick-Black', 'MM-Chalk', 'MM-Green', 'MM-Green-Black',\n",
      "       'MM-Grey-Black', 'MM-Lilac-Black', 'MM-Night Blue', 'MM-Petrol',\n",
      "       'MM-Pink', 'MM-Pink Silver', 'MM-Purple', 'MMe-Champagne-Brown',\n",
      "       'MMe-Moro', 'MMe-Rose', 'MMe-Rose Bordeaux', 'MN-Black', 'MN-Brown',\n",
      "       'MN-Red', 'MN-Ruby', 'MOp-Black', 'MOr-Black', 'MOr-Rose',\n",
      "       'MP-Black (KLM)', 'MPf-Black', 'MPf-Cognac', 'MPr-Black',\n",
      "       'MPr-Black-Red', 'MPr-Stone', 'MR-Natural', 'MR-Stone', 'MRa-Black',\n",
      "       'MRa-Blue-Titanium', 'MRa-Brown-Brown', 'MRa-Green', 'MRa-Green-Gold',\n",
      "       'MRa-Red-Bordeaux', 'MRa-Violet-Violet', 'MRo-Blue-Orange', 'MSo-Black',\n",
      "       'MSt-Linea Black', 'MSt-Linea Caramello', 'MSt-Linea Espresso',\n",
      "       'MSt-Linea Navy', 'MSt-Magnolia Black', 'MSt-Magnolia Petrolio',\n",
      "       'MSt-Magnolia Rose', 'MSt-Magnolia Rosso', 'MV-Black', 'MV-Blue',\n",
      "       'MV-Blue Silver', 'MV-Brown', 'MV-Chocolate', 'MV-Cognac',\n",
      "       'MV-Cognac-Rust', 'MV-Concrete', 'MV-Grey', 'MV-Grey-Black', 'MV-Ochre',\n",
      "       'MV-Olive-Black', 'MV-Rose', 'MVg-Black', 'MVg-Caramello',\n",
      "       'MVg-Espresso', 'MVg-Navy', 'MVg-Rosso', 'MX-Black Exclusive',\n",
      "       'MX-Black Red Exclusive', 'Mx-Polished-Navy Exclusive', 'SC-Black',\n",
      "       'SC-Black-Gold', 'SC-Blue', 'SCu-Black', 'SCu-Black Red (Special)',\n",
      "       'SD-Black', 'SDM-Bordeaux', 'SDM-Nightblue', 'SDM-Olive', 'SDM-Whiskey',\n",
      "       'SDa-Navy', 'SIn-3', 'SIn-5', 'SM-Black', 'SM-Black & Red',\n",
      "       'SM-Black & Yellow', 'SM-Green', 'SM-Green-Black', 'SM-Grey-Black',\n",
      "       'SM-Night Blue', 'SM-Petrol', 'SN-Black', 'SN-Brown', 'SO-Black',\n",
      "       'SO-Bordeaux', 'SO-Cognac-Brown', 'SO-Green', 'SO-Navy', 'SOp-Black',\n",
      "       'SPR-Stone', 'SPf-Black', 'SPf-Cognac', 'SPr-Black', 'SR-Cognac',\n",
      "       'SR-Natural', 'SR-Stone', 'SRa-Black', 'SRa-Blue-Titanium',\n",
      "       'SRa-Brown-Brown', 'SRa-Green', 'SRa-Green-Gold', 'SSo-Black',\n",
      "       'SSt-Linea Black', 'SSt-Linea Caramello', 'SSt-Linea Espresso',\n",
      "       'SSt-Linea Navy', 'SV-Black', 'SV-Blue', 'SV-Brown', 'SV-Chocolate',\n",
      "       'SV-Cognac', 'SV-Cognac-Rust', 'SV-Grey-Black', 'SV-Ochre',\n",
      "       'SV-Olive-Black', 'SVg-Black', 'SVg-Caramello', 'SVg-Espresso',\n",
      "       'SVg-Navy', 'Sx-Black Exclusive', 'Sx-Black-Red Exclusive',\n",
      "       'Sx-Polished-Navy Exclusive', 'TA-Brown', 'TC-Black', 'TC-Rose Floral',\n",
      "       'TC-Taupe Camo', 'TCu-Black-Blue', 'TDM-Whiskey', 'TIn-5', 'TM-Black',\n",
      "       'TM-Blue', 'TM-Blue Silver', 'TM-Green', 'TM-Purple', 'TN-Black',\n",
      "       'TN-Brown', 'TN-Red', 'TO-Black', 'TO-Cognac-Brown', 'TO-Fuchsia',\n",
      "       'TO-Green', 'TO-Red lipstick', 'TO-Red-Red', 'TPf-Black', 'TPf-Cognac',\n",
      "       'TR-Natural', 'TR-Stone', 'TV-Black', 'TV-Brown', 'TV-Chocolate',\n",
      "       'TV-Cognac', 'TV-Ochre', 'TVg-Navy', 'TX-Black Exclusive'],\n",
      "      dtype='object')\n"
     ]
    }
   ],
   "source": [
    "# print categories in the categorical variable\n",
    "print (df_clean.item.cat.categories)"
   ]
  },
  {
   "cell_type": "code",
   "execution_count": null,
   "metadata": {},
   "outputs": [],
   "source": [
    "df_clean.item.value_counts() #Return counts of unique values"
   ]
  },
  {
   "cell_type": "code",
   "execution_count": null,
   "metadata": {},
   "outputs": [],
   "source": [
    "print(df_clean.item.isnull().sum()) "
   ]
  },
  {
   "cell_type": "markdown",
   "metadata": {},
   "source": [
    "### Findings\n",
    "\n",
    "Once the items are classified into a main category (PIM Category), they are later categorized into more detailed sub-categories based on the type of material the item is made of (Type of Material) and product color (PIM Colour). The initials of the PIM Category and Type of Material are combined as a prefix before a hyphen (‘-’) and the PIM Colour is added after the hyphen. \n",
    "\n",
    "'Item' column has 292 unique categories and no missing values. Unexpected numeric type categories are spotted.This type of entries will technically be considered as a missing values. **M-Black** category has the highest frequency of sale transactions at 65,720."
   ]
  },
  {
   "cell_type": "markdown",
   "metadata": {},
   "source": [
    "<a id='Display_Name'></a>\n",
    "### VARIABLE  9: display_name"
   ]
  },
  {
   "cell_type": "code",
   "execution_count": null,
   "metadata": {},
   "outputs": [],
   "source": [
    "df_clean.display_name.describe() #overview of variable; count, unique, top,freq"
   ]
  },
  {
   "cell_type": "code",
   "execution_count": null,
   "metadata": {},
   "outputs": [],
   "source": [
    "print (df_clean.display_name.unique()) "
   ]
  },
  {
   "cell_type": "code",
   "execution_count": null,
   "metadata": {},
   "outputs": [],
   "source": [
    "print (df_clean.display_name.cat.categories) #categories in the categorical variable"
   ]
  },
  {
   "cell_type": "code",
   "execution_count": null,
   "metadata": {},
   "outputs": [],
   "source": [
    "df_clean.display_name.value_counts()#Return counts of unique values"
   ]
  },
  {
   "cell_type": "code",
   "execution_count": null,
   "metadata": {},
   "outputs": [],
   "source": [
    "print(df_clean.display_name.isnull().sum()) #Number of missing values in Display_Name column"
   ]
  },
  {
   "cell_type": "markdown",
   "metadata": {},
   "source": [
    "### Findings\n",
    "'Display Name' like the Item column, gives a detailed description of the item sold. This column however, gives the full product name unlike the Item column entries. 'Display Name' column has 288 unique categories and no missing values. **Miniwallet Original Black** category has the highest frequency of sale transactions at 65,720."
   ]
  },
  {
   "cell_type": "markdown",
   "metadata": {},
   "source": [
    "<a id='Type_of_leather'></a>\n",
    "### VARIABLE 10 : type_of_material"
   ]
  },
  {
   "cell_type": "code",
   "execution_count": null,
   "metadata": {},
   "outputs": [],
   "source": [
    "df_clean.type_of_material.describe() #overview of variable; count, unique, top,freq"
   ]
  },
  {
   "cell_type": "code",
   "execution_count": 19,
   "metadata": {},
   "outputs": [
    {
     "name": "stdout",
     "output_type": "stream",
     "text": [
      "Index(['Aluminium', 'Amazon', 'Cleo', 'Crisple', 'Cubic', 'Dash', 'Diamond',\n",
      "       'Dutch Martin', 'Elastic', 'Engraved Aluminium', 'Glamour', 'Indigo',\n",
      "       'Matte', 'Metallic', 'Nile', 'Optical', 'Original', 'Ornament',\n",
      "       'Perforated', 'Polished', 'Polycarbonate', 'Powder coated Aluminium',\n",
      "       'Prism', 'Rango', 'Recycled', 'Vegan', 'Vegetable Tanned',\n",
      "       'Vegetable Tanned Stitched', 'Vintage'],\n",
      "      dtype='object')\n"
     ]
    }
   ],
   "source": [
    "#Types of leather used in production\n",
    "print (df_clean.type_of_material.cat.categories) # Get list of categories in categorical variable"
   ]
  },
  {
   "cell_type": "code",
   "execution_count": null,
   "metadata": {},
   "outputs": [],
   "source": [
    "df_clean.type_of_material.value_counts() #count per category"
   ]
  },
  {
   "cell_type": "code",
   "execution_count": null,
   "metadata": {},
   "outputs": [],
   "source": [
    "print(df_clean.type_of_material.isnull().sum()) "
   ]
  },
  {
   "cell_type": "markdown",
   "metadata": {},
   "source": [
    "### Findings\n",
    "This column indicates the type of material used in creating the product.\n",
    "The business uses 29 unique types of material. This column has 1,040 missing values.It is noted that missing values in this column imply that the item is not made of leather.  **Vintage** category has the highest frequency of sale transactions at 483,982."
   ]
  },
  {
   "cell_type": "markdown",
   "metadata": {},
   "source": [
    "<a id='WSL'></a>\n",
    "### VARIABLE 11 : wsl"
   ]
  },
  {
   "cell_type": "code",
   "execution_count": null,
   "metadata": {},
   "outputs": [],
   "source": [
    "df_clean.wsl.describe() #overview of variable; count, unique, top,freq"
   ]
  },
  {
   "cell_type": "code",
   "execution_count": null,
   "metadata": {},
   "outputs": [],
   "source": [
    "# Get list of categories in categorical variable\n",
    "print (df_clean.wsl.unique())\n",
    "\n",
    "#or \n",
    "\n",
    "print (df_clean.wsl.cat.categories)"
   ]
  },
  {
   "cell_type": "code",
   "execution_count": null,
   "metadata": {},
   "outputs": [],
   "source": [
    "df_clean.wsl.value_counts() #Return counts of unique values"
   ]
  },
  {
   "cell_type": "code",
   "execution_count": null,
   "metadata": {},
   "outputs": [],
   "source": [
    "print(df_clean.wsl.isnull().sum()) "
   ]
  },
  {
   "cell_type": "markdown",
   "metadata": {},
   "source": [
    "### Findings\n",
    "This column enters either 'Yes' or 'No' if an Item is currently running out of stock and is no longer produced.\n",
    "This column has one constant entry which is ‘No’. This means that no item is currently running out of stock and is no longer being produced.\n",
    "It is recommended that the column be dropped during data cleaning.This column has no missing values."
   ]
  },
  {
   "cell_type": "markdown",
   "metadata": {},
   "source": [
    "<a id='While_stock_lasts'></a>\n",
    "### VARIABLE 12 : while_stock_lasts"
   ]
  },
  {
   "cell_type": "code",
   "execution_count": null,
   "metadata": {},
   "outputs": [],
   "source": [
    "df_clean.while_stock_lasts.describe()  #overview of variable; count, unique, top,freq"
   ]
  },
  {
   "cell_type": "code",
   "execution_count": null,
   "metadata": {},
   "outputs": [],
   "source": [
    "# Get list of categories in categorical variable\n",
    "print (df_clean.while_stock_lasts.cat.categories)"
   ]
  },
  {
   "cell_type": "code",
   "execution_count": null,
   "metadata": {},
   "outputs": [],
   "source": [
    "df_clean.while_stock_lasts.value_counts() #Return counts of unique values"
   ]
  },
  {
   "cell_type": "code",
   "execution_count": null,
   "metadata": {},
   "outputs": [],
   "source": [
    "print(df_clean.while_stock_lasts.isnull().sum()) "
   ]
  },
  {
   "cell_type": "markdown",
   "metadata": {},
   "source": [
    "### Findings\n",
    "This column enters either yes or no if an Item has been taken out of the collection, but the business still has the leather in stock at the business suppliers.  **No** category has the highest frequency of sale transactions at 1,378,556. "
   ]
  },
  {
   "cell_type": "markdown",
   "metadata": {},
   "source": [
    "<a id='shipping_country'></a>\n",
    "### VARIABLE  13: shipping_country"
   ]
  },
  {
   "cell_type": "code",
   "execution_count": null,
   "metadata": {},
   "outputs": [],
   "source": [
    "df_clean.shipping_country.describe()#overview of variable; count, unique, top,freq"
   ]
  },
  {
   "cell_type": "code",
   "execution_count": null,
   "metadata": {},
   "outputs": [],
   "source": [
    "df_clean = df_clean.astype({\"shipping_country\":'category'})"
   ]
  },
  {
   "cell_type": "code",
   "execution_count": null,
   "metadata": {},
   "outputs": [],
   "source": [
    "# List of countries the business shipped items to\n",
    "print (df_clean.shipping_country.cat.categories)# Get list of categories in categorical variable"
   ]
  },
  {
   "cell_type": "code",
   "execution_count": null,
   "metadata": {},
   "outputs": [],
   "source": [
    "# Total Sales transactions per country\n",
    "df_clean.shipping_country.value_counts() #count per category(Transactions per country)"
   ]
  },
  {
   "cell_type": "code",
   "execution_count": null,
   "metadata": {},
   "outputs": [],
   "source": [
    "print(df_clean.shipping_country.isnull().sum()) "
   ]
  },
  {
   "cell_type": "markdown",
   "metadata": {},
   "source": [
    "### Findings\n",
    "For every sale transaction, the country the item was shipped to is indicated in this column. \n",
    "This variable has 102 unique categories implying that for the January 2015–July 2019 period the business shipped items to 102 different countries. \n",
    "This column has 6,102 missing values.  **Netherlands** category has the highest frequency of sale transactions at 371,805. "
   ]
  },
  {
   "cell_type": "markdown",
   "metadata": {},
   "source": [
    "### Quality Issues\n",
    "* 'shipping_country' column : rename country category names to the appropriate official country names."
   ]
  },
  {
   "cell_type": "code",
   "execution_count": null,
   "metadata": {},
   "outputs": [],
   "source": [
    "# fix messy category names\n",
    "df_clean.shipping_country = df_clean.shipping_country.str.strip().str.replace(',', '').str.replace(\"'\", '')"
   ]
  },
  {
   "cell_type": "code",
   "execution_count": null,
   "metadata": {},
   "outputs": [],
   "source": [
    "#rename category names using .cat.rename_categories\n",
    "df_clean.shipping_country.cat.rename_categories({\"Croatia/Hrvatska\":'Republic of Croatia',\"Iran (Islamic Republic of)\":'Iran',\"Vanuatu\":'Republic of Vanuatu',\"Korea Democratic Peoples Republic\":\"Democratic People's Republic of Korea\",\"Korea Republic of\":'Republic of Korea'})"
   ]
  },
  {
   "cell_type": "markdown",
   "metadata": {},
   "source": [
    "<a id='date'></a>\n",
    "### VARIABLE 14 : Date"
   ]
  },
  {
   "cell_type": "code",
   "execution_count": null,
   "metadata": {},
   "outputs": [],
   "source": [
    "df_clean['year'] = df_clean.date.dt.year # create new column 'year' that registers year sale transaction was held.(helps with analysis)"
   ]
  },
  {
   "cell_type": "markdown",
   "metadata": {},
   "source": [
    "**Test**"
   ]
  },
  {
   "cell_type": "code",
   "execution_count": null,
   "metadata": {},
   "outputs": [],
   "source": [
    "df_clean.head()"
   ]
  },
  {
   "cell_type": "code",
   "execution_count": null,
   "metadata": {
    "scrolled": true
   },
   "outputs": [],
   "source": [
    "df_clean.year.value_counts().sort_index() # number of sale transactions per year"
   ]
  },
  {
   "cell_type": "markdown",
   "metadata": {},
   "source": [
    "<a id='quantity'></a>\n",
    "### VARIABLE 15 : quantity"
   ]
  },
  {
   "cell_type": "code",
   "execution_count": null,
   "metadata": {},
   "outputs": [],
   "source": [
    "# Maximum Quantity of items sold in a trasaction for 2015-2019\n",
    "df_clean.quantity.max()"
   ]
  },
  {
   "cell_type": "code",
   "execution_count": null,
   "metadata": {},
   "outputs": [],
   "source": [
    "# Minimum Quantity of items sold per day for 2015-2019\n",
    "df_clean.quantity.min()"
   ]
  },
  {
   "cell_type": "code",
   "execution_count": null,
   "metadata": {},
   "outputs": [],
   "source": [
    "# Plot the data\n",
    "plt.rcParams['figure.figsize']=(15,10)\n",
    "plt.plot_date(df_clean.index, df_clean.quantity,linestyle='solid')\n",
    "# Add a legend\n",
    "plt.legend(['Quantity of items sold per transaction'],fontsize=18)\n",
    "plt.xlabel('Date', fontsize=18)\n",
    "plt.ylabel('Quantity',fontsize=18)\n",
    "plt.title( 'QUANTITY OF ITEMS SOLD PER TRANSACTION OVER JAN,2015-JULY,2019',fontsize=20,y=1.03)\n",
    "plt.tick_params(labelsize=12)\n",
    "plt.tight_layout()\n",
    "plt.savefig('qty.png',type=\"png\",dpi=300)#Export graph as .png\n",
    "# Show the plot\n",
    "plt.show()"
   ]
  },
  {
   "cell_type": "markdown",
   "metadata": {},
   "source": [
    "### Findings\n",
    "From the figure above we note that there are negative Quantity entries. \n",
    "Quantity column indicates the number of items purchased in a transaction, it is therefore unexpected to find negative entries.\n",
    "\n",
    "The negative entries in the Quantity column are records of items that have been returned by the customer after purchase for one reason or another.\n",
    "\n",
    "The **overall totals and means will be brought down** if Quality data is assesed or analyzed as is. We shall therefore analyze the returned items (indicated as -ve Quantity) and those purchased but not returned (indicated as +ve Quantity) separately.\n"
   ]
  },
  {
   "cell_type": "markdown",
   "metadata": {},
   "source": [
    "### Quantity of Purchased items(not returned)"
   ]
  },
  {
   "cell_type": "code",
   "execution_count": null,
   "metadata": {},
   "outputs": [],
   "source": [
    "#Total quantity of items sold for 2015-2019 (not returned)\n",
    "sum(qty for qty in df_clean.quantity if qty > 0) #total sum of '+ve' quantity"
   ]
  },
  {
   "cell_type": "markdown",
   "metadata": {},
   "source": [
    "### Quantity of returned items upon purchase "
   ]
  },
  {
   "cell_type": "code",
   "execution_count": null,
   "metadata": {},
   "outputs": [],
   "source": [
    "# Dataframe of returned items\n",
    "qtynegative = df_clean[(df_clean['quantity']<0)]# Rows with negative values in Quantity column\n",
    "qtynegative.head()"
   ]
  },
  {
   "cell_type": "code",
   "execution_count": null,
   "metadata": {},
   "outputs": [],
   "source": [
    "qtynegative.info()"
   ]
  },
  {
   "cell_type": "code",
   "execution_count": null,
   "metadata": {},
   "outputs": [],
   "source": [
    "qtynegative.to_csv('qtynegative.csv', index=False)"
   ]
  },
  {
   "cell_type": "code",
   "execution_count": null,
   "metadata": {},
   "outputs": [],
   "source": [
    "# sale transactions where items were returned\n",
    "sum(qty < 0 for qty in df_clean.quantity)# Negative(-ve) entries in Quantity column"
   ]
  },
  {
   "cell_type": "code",
   "execution_count": null,
   "metadata": {},
   "outputs": [],
   "source": [
    "# Total Quantity of items that were returned by customers after purchase\n",
    "sum(qty for qty in df_clean.quantity if qty < 0)#sum the total (-ve) items "
   ]
  },
  {
   "cell_type": "markdown",
   "metadata": {},
   "source": [
    "## Findings\n",
    "The maximum quantity of items sold in a sale transaction for January 2015 – July 2019 period was 2,510 while the minimum was -1,000. \n",
    "Excluding the returned items upon purchase (negative quantity entries), the total quantity of products/ items sold over the January 2015 – July 2019 period is 5,548,484. \n"
   ]
  },
  {
   "cell_type": "markdown",
   "metadata": {},
   "source": [
    "<a id='amount'></a>\n",
    "### VARIABLE 16 : amount"
   ]
  },
  {
   "cell_type": "code",
   "execution_count": null,
   "metadata": {},
   "outputs": [],
   "source": [
    "# Maximum revenue generated in a sale trasaction for 2015-2019\n",
    "df_clean['amount'].max()"
   ]
  },
  {
   "cell_type": "code",
   "execution_count": null,
   "metadata": {},
   "outputs": [],
   "source": [
    "# Minimum revenue generated in a sale trasaction for 2015-2019\n",
    "df_clean['amount'].min()"
   ]
  },
  {
   "cell_type": "code",
   "execution_count": null,
   "metadata": {},
   "outputs": [],
   "source": [
    "# Plot the data\n",
    "plt.rcParams['figure.figsize']=(15,10)\n",
    "plt.plot_date(df_clean.index, df_clean.amount,linestyle='solid')\n",
    "# Add a legend\n",
    "plt.legend(['Revenue generated per transaction'], fontsize=18)\n",
    "plt.xlabel('Date', fontsize=18)\n",
    "plt.ylabel('Revenue Amount(EUR)', fontsize=18)\n",
    "plt.title( 'AMOUNT GENERATED PER TRANSACTION OVER JAN 2015-JULY 2019', fontsize=20)\n",
    "plt.tick_params(labelsize=18)\n",
    "plt.tight_layout()\n",
    "plt.savefig('amt.png',type=\"png\",dpi=300)#Export graph as .png\n",
    "# Show the plot\n",
    "plt.show()"
   ]
  },
  {
   "cell_type": "code",
   "execution_count": null,
   "metadata": {},
   "outputs": [],
   "source": [
    "# Dataframe of returned items\n",
    "amtpositive = df_clean[(df_clean['amount']>0)]# Rows with negative values in Quantity column\n",
    "amtpositive.head()"
   ]
  },
  {
   "cell_type": "code",
   "execution_count": null,
   "metadata": {},
   "outputs": [],
   "source": [
    "amtpositive.info()"
   ]
  },
  {
   "cell_type": "code",
   "execution_count": null,
   "metadata": {},
   "outputs": [],
   "source": [
    "amtpositive.to_csv('amtpositive.csv', index=False)"
   ]
  },
  {
   "cell_type": "code",
   "execution_count": null,
   "metadata": {},
   "outputs": [],
   "source": [
    "#Total revenue generated for January 2015-2019\n",
    "sum(amount for amount in df_clean.amount if amount > 0) #total sum of '+ve' quantity"
   ]
  },
  {
   "cell_type": "code",
   "execution_count": null,
   "metadata": {},
   "outputs": [],
   "source": [
    "#Sale transactions of reimbursed amount\n",
    "sum(amount < 0 for amount in df_clean.amount)# Negative entries in amount column"
   ]
  },
  {
   "cell_type": "code",
   "execution_count": null,
   "metadata": {},
   "outputs": [],
   "source": [
    "#sum total of reimbursed amount (revenue lost)\n",
    "sum(amount for amount in df_clean.amount if amount < 0)"
   ]
  },
  {
   "cell_type": "markdown",
   "metadata": {},
   "source": [
    "<a id='explore'></a>\n",
    "###  Explore: quantity and amount columns"
   ]
  },
  {
   "cell_type": "code",
   "execution_count": null,
   "metadata": {},
   "outputs": [],
   "source": [
    "# rows with positive values in Quantity column and Amount column\n",
    "dfrevenue = df_clean[(df_clean.amount>0) & (df_clean.quantity>0)]"
   ]
  },
  {
   "cell_type": "code",
   "execution_count": null,
   "metadata": {
    "scrolled": true
   },
   "outputs": [],
   "source": [
    "dfrevenue.head()"
   ]
  },
  {
   "cell_type": "code",
   "execution_count": null,
   "metadata": {},
   "outputs": [],
   "source": [
    "dfrevenue.to_csv('dfrevenue.csv', index=False)"
   ]
  },
  {
   "cell_type": "code",
   "execution_count": null,
   "metadata": {},
   "outputs": [],
   "source": [
    "dfrevenue.info()"
   ]
  },
  {
   "cell_type": "code",
   "execution_count": null,
   "metadata": {},
   "outputs": [],
   "source": [
    "dfrevenue.amount.max() #maximum revenue generated in a transaction"
   ]
  },
  {
   "cell_type": "code",
   "execution_count": null,
   "metadata": {},
   "outputs": [],
   "source": [
    "dfrevenue.amount.min() #minimum revenue generated in a transaction"
   ]
  },
  {
   "cell_type": "code",
   "execution_count": null,
   "metadata": {},
   "outputs": [],
   "source": [
    "dfrevenue.amount.mean() #average qamount of items bought per transaction"
   ]
  },
  {
   "cell_type": "code",
   "execution_count": null,
   "metadata": {},
   "outputs": [],
   "source": [
    "dfrevenue.amount.mode()"
   ]
  },
  {
   "cell_type": "code",
   "execution_count": null,
   "metadata": {},
   "outputs": [],
   "source": [
    "# Group the data frame by year and extract a number of stats per year\n",
    "revenuerank = dfrevenue.groupby(\n",
    "   ['year']\n",
    ").agg(\n",
    "    {\n",
    "         'amount':sum,    # Sum revenue per customer\n",
    "         'quantity': sum  # get the sum of items sold per year\n",
    "         \n",
    "    }\n",
    ")\n",
    "\n",
    "revenuerank.sort_values(by=['year'], inplace=True, ascending=True)"
   ]
  },
  {
   "cell_type": "code",
   "execution_count": null,
   "metadata": {
    "scrolled": true
   },
   "outputs": [],
   "source": [
    "revenuerank.head()"
   ]
  },
  {
   "cell_type": "code",
   "execution_count": null,
   "metadata": {},
   "outputs": [],
   "source": [
    "# rows with negative values in Quantity column and Amount column\n",
    "dfreimbursed  = df_clean[(df_clean.amount<0) & (df_clean.quantity<0)]"
   ]
  },
  {
   "cell_type": "code",
   "execution_count": null,
   "metadata": {},
   "outputs": [],
   "source": [
    "dfreimbursed.head()"
   ]
  },
  {
   "cell_type": "code",
   "execution_count": null,
   "metadata": {},
   "outputs": [],
   "source": [
    "dfreimbursed.to_csv('dfreimbursed.csv', index=False)"
   ]
  },
  {
   "cell_type": "code",
   "execution_count": null,
   "metadata": {},
   "outputs": [],
   "source": [
    "dfreimbursed.info()"
   ]
  },
  {
   "cell_type": "code",
   "execution_count": null,
   "metadata": {},
   "outputs": [],
   "source": [
    "reimbursedrank = dfreimbursed.groupby(\n",
    "   ['year']\n",
    ").agg(\n",
    "    {\n",
    "         'amount':sum,    # Sum revenue per customer\n",
    "         'quantity': sum  # get the sum of items sold per year\n",
    "         \n",
    "    }\n",
    ")\n",
    "\n",
    "reimbursedrank.sort_values(by=['year'], inplace=True, ascending=True)"
   ]
  },
  {
   "cell_type": "code",
   "execution_count": null,
   "metadata": {},
   "outputs": [],
   "source": [
    "reimbursedrank.head()"
   ]
  },
  {
   "cell_type": "code",
   "execution_count": null,
   "metadata": {},
   "outputs": [],
   "source": [
    "#zero quantity and zero revenue rows (9 rows)\n",
    "zerorevenue = df_clean[(df_clean.amount == 0) & (df_clean.quantity == 0)]"
   ]
  },
  {
   "cell_type": "code",
   "execution_count": null,
   "metadata": {},
   "outputs": [],
   "source": [
    "zerorevenue.to_csv('zerorevenue.csv', index=False)"
   ]
  },
  {
   "cell_type": "code",
   "execution_count": null,
   "metadata": {},
   "outputs": [],
   "source": [
    "zerorevenue.head(9)"
   ]
  },
  {
   "cell_type": "code",
   "execution_count": null,
   "metadata": {},
   "outputs": [],
   "source": [
    "zerorevenue.info()"
   ]
  },
  {
   "cell_type": "code",
   "execution_count": null,
   "metadata": {},
   "outputs": [],
   "source": [
    "zerorevenuerank = zerorevenue.groupby(\n",
    "   ['year']\n",
    ").agg(\n",
    "    {\n",
    "         'amount':sum,    \n",
    "         'quantity': sum  \n",
    "         \n",
    "    }\n",
    ")\n",
    "\n",
    "zerorevenuerank.sort_index(inplace=True)"
   ]
  },
  {
   "cell_type": "code",
   "execution_count": null,
   "metadata": {},
   "outputs": [],
   "source": [
    "zerorevenuerank"
   ]
  },
  {
   "cell_type": "code",
   "execution_count": null,
   "metadata": {},
   "outputs": [],
   "source": [
    "#Negative quantity and zero revenue (or +ve) (749 rows)\n",
    "notreimbursed = df_clean[(df_clean.amount >= 0) & (df_clean.quantity < 0)]"
   ]
  },
  {
   "cell_type": "code",
   "execution_count": null,
   "metadata": {},
   "outputs": [],
   "source": [
    "notreimbursed.head(5)"
   ]
  },
  {
   "cell_type": "code",
   "execution_count": null,
   "metadata": {},
   "outputs": [],
   "source": [
    "notreimbursed.to_csv('notreimbursed.csv', index=False)"
   ]
  },
  {
   "cell_type": "code",
   "execution_count": null,
   "metadata": {
    "scrolled": true
   },
   "outputs": [],
   "source": [
    "notreimbursed.info()"
   ]
  },
  {
   "cell_type": "code",
   "execution_count": null,
   "metadata": {},
   "outputs": [],
   "source": [
    "notreimbursedrank = notreimbursed.groupby(\n",
    "   ['year']\n",
    ").agg(\n",
    "    {\n",
    "         'amount':sum,    # Sum revenue per customer\n",
    "         'quantity': sum  # get the sum of items sold per year\n",
    "         \n",
    "    }\n",
    ")\n",
    "notreimbursedrank.sort_index(inplace=True)"
   ]
  },
  {
   "cell_type": "code",
   "execution_count": null,
   "metadata": {},
   "outputs": [],
   "source": [
    "notreimbursedrank"
   ]
  },
  {
   "cell_type": "code",
   "execution_count": null,
   "metadata": {},
   "outputs": [],
   "source": [
    "#zero (or -ve) revenue rows but +ve quantity (unpaid goods)(8,356 rows)\n",
    "unpaidrevenue = df_clean[(df_clean.amount <= 0) & (df_clean.quantity > 0)]"
   ]
  },
  {
   "cell_type": "code",
   "execution_count": null,
   "metadata": {},
   "outputs": [],
   "source": [
    "unpaidrevenue.head()"
   ]
  },
  {
   "cell_type": "code",
   "execution_count": null,
   "metadata": {},
   "outputs": [],
   "source": [
    "unpaidrevenue.to_csv('unpaidrevenue.csv', index=False)"
   ]
  },
  {
   "cell_type": "code",
   "execution_count": null,
   "metadata": {},
   "outputs": [],
   "source": [
    "unpaidrevenue.tail()"
   ]
  },
  {
   "cell_type": "code",
   "execution_count": null,
   "metadata": {},
   "outputs": [],
   "source": [
    "unpaidrevenue.info()"
   ]
  },
  {
   "cell_type": "code",
   "execution_count": null,
   "metadata": {},
   "outputs": [],
   "source": [
    "unpaidrevenuerank = unpaidrevenue.groupby(\n",
    "   ['year']\n",
    ").agg(\n",
    "    {\n",
    "         'amount':sum,    # Sum revenue per customer\n",
    "         'quantity': sum  # get the sum of items sold per year\n",
    "         \n",
    "    }\n",
    ")\n",
    "\n",
    "unpaidrevenuerank.sort_index(inplace=True)"
   ]
  },
  {
   "cell_type": "code",
   "execution_count": null,
   "metadata": {
    "scrolled": true
   },
   "outputs": [],
   "source": [
    "unpaidrevenuerank"
   ]
  },
  {
   "cell_type": "markdown",
   "metadata": {},
   "source": [
    "## Quality Issues\n",
    "\n",
    "* 'Item' column : Unexpected numeric type categories are spotted.This type of entries will technically be considered as a missing values.\n",
    "\n",
    "* 'quantity' and 'amount' columns: \n",
    "    * Filter out zero quantity and zero revenue rows\n"
   ]
  },
  {
   "cell_type": "markdown",
   "metadata": {},
   "source": [
    "## DATA CLEANING"
   ]
  },
  {
   "cell_type": "code",
   "execution_count": null,
   "metadata": {},
   "outputs": [],
   "source": []
  },
  {
   "cell_type": "markdown",
   "metadata": {},
   "source": [
    "## EXPLARATORY DATA ANALYSIS"
   ]
  },
  {
   "cell_type": "code",
   "execution_count": null,
   "metadata": {},
   "outputs": [],
   "source": [
    "# rows with positive values in Quantity column and Amount column\n",
    "dfrevenue = df_clean[(df_clean.amount>=9.95) & (df_clean.quantity>0)]"
   ]
  },
  {
   "cell_type": "code",
   "execution_count": null,
   "metadata": {},
   "outputs": [],
   "source": [
    "netherlandsrevenue =dfrevenue[(dfrevenue.shipping_country == 'Netherlands')]"
   ]
  },
  {
   "cell_type": "code",
   "execution_count": null,
   "metadata": {},
   "outputs": [],
   "source": [
    "netherlandsrevenue.info()"
   ]
  },
  {
   "cell_type": "code",
   "execution_count": null,
   "metadata": {},
   "outputs": [],
   "source": [
    "netherlandsrevenue.amount.max() #maximum revenue generated in a transaction"
   ]
  },
  {
   "cell_type": "code",
   "execution_count": null,
   "metadata": {},
   "outputs": [],
   "source": [
    "netherlandsrevenue.amount.min() "
   ]
  },
  {
   "cell_type": "code",
   "execution_count": null,
   "metadata": {},
   "outputs": [],
   "source": [
    "netherlandsrevenuerank = netherlandsrevenue.groupby(\n",
    "   ['year']\n",
    ").agg(\n",
    "    {\n",
    "         'amount':sum,    # Sum revenue per customer\n",
    "         'quantity': sum  # get the sum of items sold per year\n",
    "         \n",
    "    }\n",
    ")\n",
    "\n",
    "netherlandsrevenuerank.sort_values(by=['year'], inplace=True, ascending=True)"
   ]
  },
  {
   "cell_type": "code",
   "execution_count": null,
   "metadata": {},
   "outputs": [],
   "source": [
    "netherlandsrevenuerank"
   ]
  },
  {
   "cell_type": "code",
   "execution_count": null,
   "metadata": {},
   "outputs": [],
   "source": [
    "customerrank = dfrevenue.groupby(\n",
    "   ['year', 'customer_name', 'customer_category']\n",
    ").agg(\n",
    "    {\n",
    "         'amount':sum,    # Sum revenue per customer\n",
    "         'quantity': sum  # get the sum of items sold per year\n",
    "         \n",
    "    }\n",
    ")\n",
    "\n",
    "customerrank.sort_values(by=['amount'], inplace=True, ascending=False)"
   ]
  },
  {
   "cell_type": "code",
   "execution_count": null,
   "metadata": {},
   "outputs": [],
   "source": [
    "customerrank"
   ]
  },
  {
   "cell_type": "markdown",
   "metadata": {},
   "source": [
    "## TIME SERIES ANALYSIS"
   ]
  },
  {
   "cell_type": "code",
   "execution_count": null,
   "metadata": {},
   "outputs": [],
   "source": [
    "# CREATE TIME SERIES\n",
    "df_clean.set_index('date', inplace=True) #set 'date' column as dataframe index"
   ]
  },
  {
   "cell_type": "markdown",
   "metadata": {},
   "source": [
    "**Test**"
   ]
  },
  {
   "cell_type": "code",
   "execution_count": null,
   "metadata": {},
   "outputs": [],
   "source": [
    "df_clean.index"
   ]
  },
  {
   "cell_type": "markdown",
   "metadata": {},
   "source": [
    "## MINIWALLET"
   ]
  },
  {
   "cell_type": "code",
   "execution_count": 20,
   "metadata": {},
   "outputs": [],
   "source": [
    "miniwalletdf =df_clean[(df_clean.pim_category == 'Miniwallet')]"
   ]
  },
  {
   "cell_type": "code",
   "execution_count": 21,
   "metadata": {
    "scrolled": true
   },
   "outputs": [
    {
     "data": {
      "text/html": [
       "<div>\n",
       "<style scoped>\n",
       "    .dataframe tbody tr th:only-of-type {\n",
       "        vertical-align: middle;\n",
       "    }\n",
       "\n",
       "    .dataframe tbody tr th {\n",
       "        vertical-align: top;\n",
       "    }\n",
       "\n",
       "    .dataframe thead th {\n",
       "        text-align: right;\n",
       "    }\n",
       "</style>\n",
       "<table border=\"1\" class=\"dataframe\">\n",
       "  <thead>\n",
       "    <tr style=\"text-align: right;\">\n",
       "      <th></th>\n",
       "      <th>internal_id</th>\n",
       "      <th>document_number</th>\n",
       "      <th>date</th>\n",
       "      <th>customer_name</th>\n",
       "      <th>customer_category</th>\n",
       "      <th>retailer_role</th>\n",
       "      <th>shipping_country</th>\n",
       "      <th>item</th>\n",
       "      <th>display_name</th>\n",
       "      <th>quantity</th>\n",
       "      <th>amount</th>\n",
       "      <th>amount_foreign_currency</th>\n",
       "      <th>pim_category</th>\n",
       "      <th>type_of_material</th>\n",
       "      <th>pim_colour</th>\n",
       "      <th>wsl</th>\n",
       "      <th>while_stock_lasts</th>\n",
       "      <th>cardprotector_colour</th>\n",
       "    </tr>\n",
       "  </thead>\n",
       "  <tbody>\n",
       "    <tr>\n",
       "      <td>12</td>\n",
       "      <td>30196</td>\n",
       "      <td>I-1510002</td>\n",
       "      <td>2015-01-06</td>\n",
       "      <td>C-6496 Eug Hoffman</td>\n",
       "      <td>Leather goods</td>\n",
       "      <td>NaN</td>\n",
       "      <td>Luxembourg</td>\n",
       "      <td>M-Black</td>\n",
       "      <td>Miniwallet Original Black</td>\n",
       "      <td>4</td>\n",
       "      <td>91.60</td>\n",
       "      <td>91.60</td>\n",
       "      <td>Miniwallet</td>\n",
       "      <td>Original</td>\n",
       "      <td>Black</td>\n",
       "      <td>No</td>\n",
       "      <td>No</td>\n",
       "      <td>Silver</td>\n",
       "    </tr>\n",
       "    <tr>\n",
       "      <td>13</td>\n",
       "      <td>30196</td>\n",
       "      <td>I-1510002</td>\n",
       "      <td>2015-01-06</td>\n",
       "      <td>C-6496 Eug Hoffman</td>\n",
       "      <td>Leather goods</td>\n",
       "      <td>NaN</td>\n",
       "      <td>Luxembourg</td>\n",
       "      <td>M-Dark brown</td>\n",
       "      <td>Miniwallet Original Dark Brown</td>\n",
       "      <td>3</td>\n",
       "      <td>68.70</td>\n",
       "      <td>68.70</td>\n",
       "      <td>Miniwallet</td>\n",
       "      <td>Original</td>\n",
       "      <td>Dark brown</td>\n",
       "      <td>No</td>\n",
       "      <td>No</td>\n",
       "      <td>Silver</td>\n",
       "    </tr>\n",
       "    <tr>\n",
       "      <td>14</td>\n",
       "      <td>30196</td>\n",
       "      <td>I-1510002</td>\n",
       "      <td>2015-01-06</td>\n",
       "      <td>C-6496 Eug Hoffman</td>\n",
       "      <td>Leather goods</td>\n",
       "      <td>NaN</td>\n",
       "      <td>Luxembourg</td>\n",
       "      <td>MV-Black</td>\n",
       "      <td>Miniwallet Vintage Black</td>\n",
       "      <td>4</td>\n",
       "      <td>91.60</td>\n",
       "      <td>91.60</td>\n",
       "      <td>Miniwallet</td>\n",
       "      <td>Vintage</td>\n",
       "      <td>Black</td>\n",
       "      <td>No</td>\n",
       "      <td>No</td>\n",
       "      <td>Black</td>\n",
       "    </tr>\n",
       "    <tr>\n",
       "      <td>15</td>\n",
       "      <td>30196</td>\n",
       "      <td>I-1510002</td>\n",
       "      <td>2015-01-06</td>\n",
       "      <td>C-6496 Eug Hoffman</td>\n",
       "      <td>Leather goods</td>\n",
       "      <td>NaN</td>\n",
       "      <td>Luxembourg</td>\n",
       "      <td>MV-Blue Silver</td>\n",
       "      <td>Miniwallet Vintage Blue</td>\n",
       "      <td>1</td>\n",
       "      <td>22.90</td>\n",
       "      <td>22.90</td>\n",
       "      <td>Miniwallet</td>\n",
       "      <td>Vintage</td>\n",
       "      <td>Blue</td>\n",
       "      <td>No</td>\n",
       "      <td>No</td>\n",
       "      <td>Silver</td>\n",
       "    </tr>\n",
       "    <tr>\n",
       "      <td>16</td>\n",
       "      <td>30196</td>\n",
       "      <td>I-1510002</td>\n",
       "      <td>2015-01-06</td>\n",
       "      <td>C-6496 Eug Hoffman</td>\n",
       "      <td>Leather goods</td>\n",
       "      <td>NaN</td>\n",
       "      <td>Luxembourg</td>\n",
       "      <td>MV-Cognac</td>\n",
       "      <td>Miniwallet Vintage Cognac</td>\n",
       "      <td>3</td>\n",
       "      <td>68.70</td>\n",
       "      <td>68.70</td>\n",
       "      <td>Miniwallet</td>\n",
       "      <td>Vintage</td>\n",
       "      <td>Brown</td>\n",
       "      <td>No</td>\n",
       "      <td>No</td>\n",
       "      <td>Silver</td>\n",
       "    </tr>\n",
       "  </tbody>\n",
       "</table>\n",
       "</div>"
      ],
      "text/plain": [
       "   internal_id document_number       date       customer_name  \\\n",
       "12       30196       I-1510002 2015-01-06  C-6496 Eug Hoffman   \n",
       "13       30196       I-1510002 2015-01-06  C-6496 Eug Hoffman   \n",
       "14       30196       I-1510002 2015-01-06  C-6496 Eug Hoffman   \n",
       "15       30196       I-1510002 2015-01-06  C-6496 Eug Hoffman   \n",
       "16       30196       I-1510002 2015-01-06  C-6496 Eug Hoffman   \n",
       "\n",
       "   customer_category retailer_role shipping_country            item  \\\n",
       "12     Leather goods           NaN       Luxembourg         M-Black   \n",
       "13     Leather goods           NaN       Luxembourg    M-Dark brown   \n",
       "14     Leather goods           NaN       Luxembourg        MV-Black   \n",
       "15     Leather goods           NaN       Luxembourg  MV-Blue Silver   \n",
       "16     Leather goods           NaN       Luxembourg       MV-Cognac   \n",
       "\n",
       "                      display_name  quantity  amount  amount_foreign_currency  \\\n",
       "12       Miniwallet Original Black         4   91.60                    91.60   \n",
       "13  Miniwallet Original Dark Brown         3   68.70                    68.70   \n",
       "14        Miniwallet Vintage Black         4   91.60                    91.60   \n",
       "15         Miniwallet Vintage Blue         1   22.90                    22.90   \n",
       "16       Miniwallet Vintage Cognac         3   68.70                    68.70   \n",
       "\n",
       "   pim_category type_of_material  pim_colour wsl while_stock_lasts  \\\n",
       "12   Miniwallet         Original       Black  No                No   \n",
       "13   Miniwallet         Original  Dark brown  No                No   \n",
       "14   Miniwallet          Vintage       Black  No                No   \n",
       "15   Miniwallet          Vintage        Blue  No                No   \n",
       "16   Miniwallet          Vintage       Brown  No                No   \n",
       "\n",
       "   cardprotector_colour  \n",
       "12               Silver  \n",
       "13               Silver  \n",
       "14                Black  \n",
       "15               Silver  \n",
       "16               Silver  "
      ]
     },
     "execution_count": 21,
     "metadata": {},
     "output_type": "execute_result"
    }
   ],
   "source": [
    "miniwalletdf.head() #preview first five rows"
   ]
  },
  {
   "cell_type": "code",
   "execution_count": null,
   "metadata": {},
   "outputs": [],
   "source": [
    "timelessdesign= miniwalletdf.groupby(\n",
    "   ['type_of_material']\n",
    ").agg(\n",
    "    {\n",
    "         'amount':sum,    # Sum revenue per customer\n",
    "         'quantity': sum  # get the sum of items sold per year\n",
    "         \n",
    "    }\n",
    ")\n",
    "\n",
    "timelessdesign.sort_values(by=['amount'], inplace=True, ascending=False)"
   ]
  },
  {
   "cell_type": "code",
   "execution_count": null,
   "metadata": {},
   "outputs": [],
   "source": []
  },
  {
   "cell_type": "code",
   "execution_count": null,
   "metadata": {},
   "outputs": [],
   "source": []
  }
 ],
 "metadata": {
  "kernelspec": {
   "display_name": "Python 3",
   "language": "python",
   "name": "python3"
  },
  "language_info": {
   "codemirror_mode": {
    "name": "ipython",
    "version": 3
   },
   "file_extension": ".py",
   "mimetype": "text/x-python",
   "name": "python",
   "nbconvert_exporter": "python",
   "pygments_lexer": "ipython3",
   "version": "3.7.4"
  }
 },
 "nbformat": 4,
 "nbformat_minor": 4
}
